{
 "cells": [
  {
   "cell_type": "code",
   "execution_count": 34,
   "metadata": {},
   "outputs": [],
   "source": [
    "import os\n",
    "import argparse\n",
    "import math as m\n",
    "from collections import Counter\n",
    "import numpy as np\n",
    "import pandas as pd\n",
    "from sklearn.model_selection import train_test_split"
   ]
  },
  {
   "cell_type": "code",
   "execution_count": 35,
   "metadata": {},
   "outputs": [],
   "source": [
    "datasetname = 'unedited_data/Seawater.csv'\n",
    "prefix = 'Seawater'\n",
    "percent = 0.25\n",
    "verbose = 1"
   ]
  },
  {
   "cell_type": "code",
   "execution_count": 36,
   "metadata": {},
   "outputs": [],
   "source": [
    "# Read original dataset\n",
    "if os.path.exists(datasetname): # -d\n",
    "    df = pd.read_csv(datasetname, header=None, encoding='latin-1')\n",
    "else:\n",
    "    raise FileNotFoundError('File %s not found!' % (datasetname))\n",
    "\n",
    "# Making sure NAs are taken care of\n",
    "df.dropna(axis=1, how='all', inplace=True)\n",
    "df.fillna(0, inplace=True)\n",
    "\n",
    "df = df.rename(columns={df.columns[0]: 'label'})\n",
    "df = df.reset_index(drop=True)"
   ]
  },
  {
   "cell_type": "code",
   "execution_count": 37,
   "metadata": {},
   "outputs": [],
   "source": [
    "# Dealing with labels and classes\n",
    "classes = dict(enumerate(np.unique(df.label)))\n",
    "classes = {v: k for k, v in classes.items()}\n",
    "df.label = df.label.map(classes)\n",
    "df_classes_counts = Counter(df.label).values()\n",
    "# Save dictionary\n",
    "np.save('../data/{}_labels_dict.npy'.format(prefix), classes) "
   ]
  },
  {
   "cell_type": "code",
   "execution_count": 38,
   "metadata": {},
   "outputs": [],
   "source": [
    "X_train, X_test, y_train, y_test = train_test_split(df, df.label,\n",
    "                                                stratify=df.label, \n",
    "                                                test_size=percent)"
   ]
  },
  {
   "cell_type": "code",
   "execution_count": 39,
   "metadata": {},
   "outputs": [
    {
     "name": "stdout",
     "output_type": "stream",
     "text": [
      "\n",
      "Finished loading dataset...\n",
      "------------------------\n",
      "Number of samples:   351\n",
      "Number of classes:   11\n",
      "Number of samples per class:   dict_values([8, 32, 23, 12, 18, 60, 50, 23, 37, 8, 80])\n",
      "Sequence length:   1003\n",
      "------------------------\n",
      "Number of samples in training set:   263\n",
      "Number of classes in training set:   11\n",
      "Number of training samples per class:   dict_values([45, 37, 24, 60, 6, 17, 14, 28, 17, 9, 6])\n",
      "------------------------\n",
      "Number of samples in test set:   88\n",
      "Number of classes in test set:   11\n",
      "Number of testing samples per class:   dict_values([9, 13, 15, 20, 8, 2, 6, 6, 2, 4, 3])\n"
     ]
    }
   ],
   "source": [
    "X_train_classes_counts = Counter(X_train.label).values()\n",
    "X_test_classes_counts = Counter(X_test.label).values()\n",
    "\n",
    "# Saving to CSV files\n",
    "X_train.to_csv('../data/{}_TRAIN'.format(prefix), header=None, index_label=None, index=None) # -p\n",
    "X_test.to_csv('../data/{}_TEST'.format(prefix), header=None, index_label=None, index=None)\n",
    "\n",
    "if verbose == 1: # -v\n",
    "    print()\n",
    "    print(\"Finished loading dataset...\")\n",
    "    print(\"------------------------\")\n",
    "    print(\"Number of samples:  \", df.shape[0])\n",
    "    print(\"Number of classes:  \", len(np.unique(df.label)))\n",
    "    print(\"Number of samples per class:  \", df_classes_counts)\n",
    "    print(\"Sequence length:  \", df.shape[-1])\n",
    "    print(\"------------------------\")\n",
    "    print(\"Number of samples in training set:  \", X_train.shape[0])\n",
    "    print(\"Number of classes in training set:  \", len(X_train_classes_counts))\n",
    "    print(\"Number of training samples per class:  \", X_train_classes_counts)\n",
    "    print(\"------------------------\")\n",
    "    print(\"Number of samples in test set:  \", X_test.shape[0])\n",
    "    print(\"Number of classes in test set:  \", len(X_test_classes_counts))\n",
    "    print(\"Number of testing samples per class:  \", X_test_classes_counts)"
   ]
  },
  {
   "cell_type": "code",
   "execution_count": null,
   "metadata": {},
   "outputs": [],
   "source": []
  }
 ],
 "metadata": {
  "kernelspec": {
   "display_name": "keras",
   "language": "python",
   "name": "keras"
  },
  "language_info": {
   "codemirror_mode": {
    "name": "ipython",
    "version": 3
   },
   "file_extension": ".py",
   "mimetype": "text/x-python",
   "name": "python",
   "nbconvert_exporter": "python",
   "pygments_lexer": "ipython3",
   "version": "3.6.5"
  }
 },
 "nbformat": 4,
 "nbformat_minor": 2
}
