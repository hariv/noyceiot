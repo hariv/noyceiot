{
 "cells": [
  {
   "cell_type": "code",
   "execution_count": 180,
   "metadata": {},
   "outputs": [],
   "source": [
    "import os\n",
    "import argparse\n",
    "import math as m\n",
    "from collections import Counter\n",
    "import numpy as np\n",
    "import pandas as pd\n",
    "from sklearn.model_selection import train_test_split\n",
    "\n",
    "def create_dict(keys, values):\n",
    "    return dict(zip(keys, values + [None] * (len(keys) - len(values))))"
   ]
  },
  {
   "cell_type": "markdown",
   "metadata": {},
   "source": [
    "python preprocessor.py -d ../unedited_data/Seawater.csv -p Seawater -c 0.3"
   ]
  },
  {
   "cell_type": "markdown",
   "metadata": {},
   "source": [
    "datasetname, verbose, prefix, percent"
   ]
  },
  {
   "cell_type": "code",
   "execution_count": 215,
   "metadata": {},
   "outputs": [],
   "source": [
    "datasetname = '../unedited_data/Seawater_4cats.csv'\n",
    "verbose = 1\n",
    "prefix = 'Seawater_4cats'\n",
    "percent = 0.3"
   ]
  },
  {
   "cell_type": "code",
   "execution_count": 216,
   "metadata": {},
   "outputs": [],
   "source": [
    "# Read original dataset\n",
    "if os.path.exists(datasetname): # -d\n",
    "    df = pd.read_csv(datasetname, header=None, encoding='latin-1')\n",
    "else:\n",
    "    raise FileNotFoundError('File %s not found!' % (datasetname))\n",
    "\n",
    "# Making sure NAs are taken care of\n",
    "df.dropna(axis=1, how='all', inplace=True)\n",
    "df.fillna(0, inplace=True)\n",
    "\n",
    "df = df.rename(columns={df.columns[0]: 'label'})\n",
    "df = df.reset_index(drop=True)\n",
    "\n",
    "\n",
    "\n",
    "# Dealing with labels and classes\n",
    "org_label = df.label\n",
    "classes = dict(enumerate(np.unique(df.label)))\n",
    "classes = {v: k for k, v in classes.items()}\n",
    "df.label = df.label.map(classes)\n",
    "df_classes_counts = Counter(df.label).values()\n",
    "\n",
    "\n",
    "indices = np.arange(len(df.label))\n",
    "\n",
    "# Spliting the datase\n",
    "X_train, X_test, y_train, y_test, X_ind, y_ind = train_test_split(df, \n",
    "                                                                  df.label, \n",
    "                                                                  indices,\n",
    "                                                                  stratify=df.label, \n",
    "                                                                  test_size=percent)\n",
    "X_train_classes_counts = Counter(X_train.label).values()\n",
    "X_test_classes_counts = Counter(X_test.label).values()"
   ]
  },
  {
   "cell_type": "code",
   "execution_count": 221,
   "metadata": {},
   "outputs": [
    {
     "name": "stdout",
     "output_type": "stream",
     "text": [
      "['HM' 'HandP' 'Ind' 'SW']\n",
      "[0 1 2 3]\n",
      "dict_values([38, 109, 18, 80])\n",
      "dict_values([76, 13, 26, 56])\n",
      "dict_values([33, 12, 24, 5])\n"
     ]
    }
   ],
   "source": [
    "print(np.unique(org_label))\n",
    "print(np.unique(df.label))\n",
    "print(df_classes_counts)\n",
    "print(X_train_classes_counts)\n",
    "print(X_test_classes_counts)"
   ]
  },
  {
   "cell_type": "code",
   "execution_count": null,
   "metadata": {},
   "outputs": [],
   "source": []
  },
  {
   "cell_type": "code",
   "execution_count": null,
   "metadata": {},
   "outputs": [],
   "source": []
  }
 ],
 "metadata": {
  "kernelspec": {
   "display_name": "keras",
   "language": "python",
   "name": "keras"
  },
  "language_info": {
   "codemirror_mode": {
    "name": "ipython",
    "version": 3
   },
   "file_extension": ".py",
   "mimetype": "text/x-python",
   "name": "python",
   "nbconvert_exporter": "python",
   "pygments_lexer": "ipython3",
   "version": "3.6.5"
  }
 },
 "nbformat": 4,
 "nbformat_minor": 2
}
