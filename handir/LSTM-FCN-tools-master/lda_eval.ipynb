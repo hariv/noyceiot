{
 "cells": [
  {
   "cell_type": "code",
   "execution_count": 53,
   "metadata": {},
   "outputs": [
    {
     "name": "stderr",
     "output_type": "stream",
     "text": [
      "/home/snd2/anaconda3/envs/keras/lib/python3.6/site-packages/sklearn/discriminant_analysis.py:388: UserWarning: Variables are collinear.\n",
      "  warnings.warn(\"Variables are collinear.\")\n",
      "/home/snd2/anaconda3/envs/keras/lib/python3.6/site-packages/sklearn/discriminant_analysis.py:388: UserWarning: Variables are collinear.\n",
      "  warnings.warn(\"Variables are collinear.\")\n"
     ]
    }
   ],
   "source": [
    "import matplotlib\n",
    "matplotlib.use('Agg')\n",
    "import matplotlib.pyplot as plt\n",
    "import seaborn as sns \n",
    "sns.set() \n",
    "sns.set_style(\"white\")\n",
    "sns.set_style(\"ticks\")\n",
    "sns.set_context(\"paper\")\n",
    "from pylab import rcParams \n",
    "rcParams['figure.figsize'] = 5, 5\n",
    "from matplotlib.pyplot import cm\n",
    "import argparse\n",
    "import numpy as np\n",
    "import pandas as pd\n",
    "from scipy import interp\n",
    "from itertools import cycle\n",
    "from sklearn import datasets\n",
    "from sklearn.discriminant_analysis import LinearDiscriminantAnalysis\n",
    "from sklearn.preprocessing import label_binarize\n",
    "from sklearn.model_selection import train_test_split\n",
    "from sklearn import svm, datasets\n",
    "from sklearn.metrics import roc_curve, auc, classification_report\n",
    "from utils.constants import MAX_SEQUENCE_LENGTH_LIST, NB_CLASSES_LIST\n",
    "\n",
    "gen = 0\n",
    "prefix = 'SW13'\n",
    "DATASET_INDEX = 24\n",
    "MAX_SEQUENCE_LENGTH = MAX_SEQUENCE_LENGTH_LIST[DATASET_INDEX]\n",
    "NB_CLASS = NB_CLASSES_LIST[DATASET_INDEX]\n",
    "\n",
    "aa = pd.read_csv('../data/{prefix}_TEST'.format(prefix=prefix), header=None)\n",
    "len_aa = len(aa)\n",
    "y_test = aa.iloc[:,0]\n",
    "X_test = np.diff(np.array(aa.iloc[:,1:])) #############\n",
    "\n",
    "if gen == 0:\n",
    "    aa = pd.read_csv('../data/{prefix}_TRAIN'.format(prefix=prefix), header=None)\n",
    "elif gen == 1:\n",
    "    aa = pd.read_csv('../data/{prefix}_EXP_TRAIN'.format(prefix=prefix), header=None)\n",
    "\n",
    "\n",
    "len_aa = len(aa)\n",
    "y_train = aa.iloc[:,0]\n",
    "X_train = np.diff(np.array(aa.iloc[:,1:])) ############\n",
    "\n",
    "lda = LinearDiscriminantAnalysis(n_components=3)\n",
    "lda.fit(X_train, y_train)\n",
    "y_score = lda.fit(X_train, y_train).decision_function(X_test)\n",
    "\n",
    "y_test = label_binarize(y_test, classes=range(0, NB_CLASS))\n",
    "\n",
    "read_dictionary = np.load('../data/{prefix}_labels_dict.npy'.format(prefix=prefix)).item()\n",
    "read_dictionary = {v: k for k, v in read_dictionary.items()}\n",
    "\n",
    "NB_CLASS_list = [read_dictionary[i] for i in range(NB_CLASS)]"
   ]
  },
  {
   "cell_type": "code",
   "execution_count": 54,
   "metadata": {},
   "outputs": [
    {
     "name": "stdout",
     "output_type": "stream",
     "text": [
      "(8, 'MeP')\n",
      "(5, 'Cu')\n",
      "(11, 'Pb')\n",
      "(11, 'Pb')\n",
      "(10, 'PQ')\n",
      "(10, 'PQ')\n",
      "(8, 'MeP')\n",
      "(8, 'MeP')\n",
      "(6, 'DQ')\n",
      "(12, 'seawater')\n",
      "(12, 'seawater')\n",
      "(5, 'Cu')\n",
      "(2, 'Ag')\n"
     ]
    }
   ],
   "source": [
    "for i in range(1,14):\n",
    "    #####################################\n",
    "    ###### Put filename here ############\n",
    "    sample_name = '../unedited_data/Dave_data/' + str(i) + '.txt'\n",
    "    ###### including .csv/.txt ########## \n",
    "    #####################################\n",
    "    aa = pd.read_csv('../data/{sample_name}'.format(sample_name=sample_name), skiprows=20, header=None)\n",
    "    # aa = np.array(aa[2])\n",
    "    # aa = aa.reshape(1, MAX_SEQUENCE_LENGTH)\n",
    "    aa = np.diff(np.array(aa[2]))              ###\n",
    "    aa = aa.reshape(1, MAX_SEQUENCE_LENGTH-1)  ###\n",
    "    pred_num = lda.predict(aa)[0]\n",
    "    print(list(read_dictionary.items())[pred_num])"
   ]
  },
  {
   "cell_type": "code",
   "execution_count": null,
   "metadata": {},
   "outputs": [],
   "source": []
  }
 ],
 "metadata": {
  "kernelspec": {
   "display_name": "keras",
   "language": "python",
   "name": "keras"
  },
  "language_info": {
   "codemirror_mode": {
    "name": "ipython",
    "version": 3
   },
   "file_extension": ".py",
   "mimetype": "text/x-python",
   "name": "python",
   "nbconvert_exporter": "python",
   "pygments_lexer": "ipython3",
   "version": "3.6.5"
  }
 },
 "nbformat": 4,
 "nbformat_minor": 2
}
